{
 "cells": [
  {
   "cell_type": "markdown",
   "metadata": {},
   "source": [
    "# 从训练到部署实现旋转翼无人机检测"
   ]
  },
  {
   "cell_type": "markdown",
   "metadata": {},
   "source": [
    "本项目基于PP-YOLOE+模型实现了旋转翼无人机检测从训练到部署的全流程，最终在验证集上达到90.73%的mAP，是一个比较成功的目标检测案例。"
   ]
  },
  {
   "cell_type": "markdown",
   "metadata": {},
   "source": [
    "## 一、项目背景"
   ]
  },
  {
   "cell_type": "markdown",
   "metadata": {
    "jupyter": {
     "outputs_hidden": false
    }
   },
   "source": [
    "这个数据集由Mehdi Özel为无人机比赛收集的。目前大部分的无人机数据集只包含无人机拍摄的照片（大部分是无人机对地视图）。与别的数据集不同，该数据集的图像是无人机的图像，可以用来训练我方无人机引导和躲避其他无人机。 该数据集有1359张照片，都有标签。数据集仅包括旋翼无人机。不包括固定翼。本项目基于该数据集训练了一个目标检测模型，使模型能够检测旋转翼无人机，在自行划分的验证集下达到mAP≥0.8的效果。"
   ]
  },
  {
   "cell_type": "markdown",
   "metadata": {},
   "source": [
    "## 二、数据预处理"
   ]
  },
  {
   "cell_type": "markdown",
   "metadata": {},
   "source": [
    "**Step01：解压数据集**"
   ]
  },
  {
   "cell_type": "markdown",
   "metadata": {},
   "source": [
    "ERROR1：当我使用unzip指令解压数据集时，出现如下报错。\n",
    "```\n",
    "/bin/bash: -c: 行 0: 未预期的符号 `(' 附近有语法错误\n",
    "/bin/bash: -c: 行 0: `unzip /home/aistudio/data/data191191/DroneDataset (UAV).zip -d /home/aistudio/work/'\n",
    "```\n",
    "SOLUTION1：重命名数据集，删除“（）”。即DroneDataset (UAV).zip -> DroneDataset.zip。"
   ]
  },
  {
   "cell_type": "code",
   "execution_count": null,
   "metadata": {
    "scrolled": true,
    "tags": []
   },
   "outputs": [],
   "source": [
    "!unzip /home/aistudio/data/data191191/DroneDataset.zip -d /home/aistudio/work/"
   ]
  },
  {
   "cell_type": "markdown",
   "metadata": {},
   "source": [
    "**Step02：** 区分文件夹中不同后缀名的文件"
   ]
  },
  {
   "cell_type": "markdown",
   "metadata": {},
   "source": [
    "本项目用到的是dataset_xml_format中的图片和标注数据，由于图片和标注数据是存放在一起的，所以我们首先需要把两者分开存放，方便后续处理。"
   ]
  },
  {
   "cell_type": "markdown",
   "metadata": {},
   "source": [
    "首先，我们在该目录下新建两个文件夹/home/aistudio/work/dataset_xml_format分别为JPEGImages和Annotations。\n",
    "\n",
    "JPEGImages用于存放数据集中的图片。\n",
    "\n",
    "Annotations用于存放标注文件。"
   ]
  },
  {
   "cell_type": "markdown",
   "metadata": {},
   "source": [
    "然后通过下面的指令移动相同后缀名的文件到指定文件夹。"
   ]
  },
  {
   "cell_type": "code",
   "execution_count": null,
   "metadata": {
    "collapsed": false,
    "jupyter": {
     "outputs_hidden": false
    },
    "scrolled": true,
    "tags": []
   },
   "outputs": [],
   "source": [
    "!mv /home/aistudio/work/dataset_xml_format/dataset_xml_format/*.png /home/aistudio/work/dataset_xml_format/JPEGImages/\n",
    "!mv /home/aistudio/work/dataset_xml_format/dataset_xml_format/*.jpg /home/aistudio/work/dataset_xml_format/JPEGImages/\n",
    "!mv /home/aistudio/work/dataset_xml_format/dataset_xml_format/*.JPG /home/aistudio/work/dataset_xml_format/JPEGImages/\n",
    "!mv /home/aistudio/work/dataset_xml_format/dataset_xml_format/*.xml /home/aistudio/work/dataset_xml_format/Annotations/"
   ]
  },
  {
   "cell_type": "markdown",
   "metadata": {},
   "source": [
    "为了便于后面的处理，我们可以统一图片的后缀名。"
   ]
  },
  {
   "cell_type": "code",
   "execution_count": null,
   "metadata": {
    "scrolled": true,
    "tags": []
   },
   "outputs": [],
   "source": [
    "%cd /home/aistudio/work/dataset_xml_format/JPEGImages/\n",
    "!rename 's/\\.jpg/\\.png/'  ./*\n",
    "!rename 's/\\.JPG/\\.png/'  ./*"
   ]
  },
  {
   "cell_type": "markdown",
   "metadata": {},
   "source": [
    "**Step03：** 划分数据集"
   ]
  },
  {
   "cell_type": "markdown",
   "metadata": {},
   "source": [
    "首先安装PaddleX。"
   ]
  },
  {
   "cell_type": "code",
   "execution_count": null,
   "metadata": {
    "scrolled": true,
    "tags": []
   },
   "outputs": [],
   "source": [
    "!pip install paddlex"
   ]
  },
  {
   "cell_type": "markdown",
   "metadata": {},
   "source": [
    "然后，我们通过paddlex中的split_dataset命令按照0.7：0.3的比例划分训练集和验证集。"
   ]
  },
  {
   "cell_type": "code",
   "execution_count": null,
   "metadata": {
    "scrolled": true,
    "tags": []
   },
   "outputs": [],
   "source": [
    "!paddlex --split_dataset --format VOC --dataset_dir /home/aistudio/work/dataset_xml_format --val_value 0.3"
   ]
  },
  {
   "cell_type": "markdown",
   "metadata": {},
   "source": [
    "划分后我们可以看到当前路径下出现了train_list.txt、val_list.txt和labels.txt三个文件，分别代表：\n",
    "* 训练集图片及其标注文件\n",
    "* 验证集图片及其标注文件\n",
    "* 数据集标签"
   ]
  },
  {
   "cell_type": "markdown",
   "metadata": {},
   "source": [
    "## 三、代码实现"
   ]
  },
  {
   "cell_type": "markdown",
   "metadata": {},
   "source": [
    "### 3.1 安装PaddleDetection"
   ]
  },
  {
   "cell_type": "code",
   "execution_count": null,
   "metadata": {
    "scrolled": true,
    "tags": []
   },
   "outputs": [],
   "source": [
    "# 克隆PaddleDetection仓库\n",
    "#!git clone https://github.com/PaddlePaddle/PaddleDetection.git\n",
    "\n",
    "# 安装其他依赖\n",
    "%cd /home/aistudio/PaddleDetection/\n",
    "!pip install -r requirements.txt\n",
    "\n",
    "# 编译安装paddledet\n",
    "!python setup.py install"
   ]
  },
  {
   "cell_type": "markdown",
   "metadata": {},
   "source": [
    "### 3.2 检测数据分析"
   ]
  },
  {
   "cell_type": "markdown",
   "metadata": {},
   "source": [
    "**检测框高宽比分析：** 通过绘制检测框高宽比分布直方图反映当前检测框宽高比的分布情况。"
   ]
  },
  {
   "cell_type": "code",
   "execution_count": null,
   "metadata": {
    "scrolled": true,
    "tags": []
   },
   "outputs": [],
   "source": [
    "import os\n",
    "from unicodedata import name\n",
    "import xml.etree.ElementTree as ET\n",
    "import glob\n",
    "import matplotlib.pyplot as plt\n",
    "\n",
    "def ratio(indir):\n",
    "    # 提取xml文件列表\n",
    "    os.chdir(indir)\n",
    "    annotations = os.listdir('.')\n",
    "    annotations = glob.glob(str(annotations) + '*.xml')\n",
    "    # count_0, count_1, count_2, count_3 = 0, 0, 0, 0 # 举反例，不要这么写\n",
    "    count = [0 for i in range(20)]\n",
    "\n",
    "    for i, file in enumerate(annotations): # 遍历xml文件\n",
    "        # actual parsing\n",
    "        in_file = open(file, encoding = 'utf-8')\n",
    "        tree = ET.parse(in_file)\n",
    "        root = tree.getroot()\n",
    "\n",
    "        # 遍历文件的所有检测框\n",
    "        for obj in root.iter('object'):\n",
    "            xmin = obj.find('bndbox').find('xmin').text\n",
    "            ymin = obj.find('bndbox').find('ymin').text\n",
    "            xmax = obj.find('bndbox').find('xmax').text\n",
    "            ymax = obj.find('bndbox').find('ymax').text\n",
    "            Aspect_ratio = (int(ymax)-int(ymin)) / (int(xmax)-int(xmin))\n",
    "            if int(Aspect_ratio/0.25) < 19:\n",
    "                count[int(Aspect_ratio/0.25)] += 1\n",
    "            else:\n",
    "                count[-1] += 1\n",
    "    sign = [0.25*i for i in range(20)]\n",
    "    plt.bar(x=sign, height=count)\n",
    "    plt.savefig(\"/home/aistudio/work/hw.png\") \n",
    "    plt.show()\n",
    "    print(count)\n",
    "\n",
    "indir='/home/aistudio/work/dataset_xml_format/Annotations/'   # xml文件所在的目录\n",
    "ratio(indir)"
   ]
  },
  {
   "cell_type": "markdown",
   "metadata": {},
   "source": [
    "结果如下：\n",
    "\n",
    "![](https://ai-studio-static-online.cdn.bcebos.com/cb09e63335d2420a8915a59799d4fde23eccbd6bc803484bbdab02d98b312fcc)"
   ]
  },
  {
   "cell_type": "markdown",
   "metadata": {},
   "source": [
    "**图像尺寸分析：** 通过图像尺寸分析，我们可以看到该数据集图片的尺寸不一。"
   ]
  },
  {
   "cell_type": "code",
   "execution_count": null,
   "metadata": {
    "scrolled": true,
    "tags": []
   },
   "outputs": [],
   "source": [
    "import os\n",
    "from unicodedata import name\n",
    "import xml.etree.ElementTree as ET\n",
    "import glob\n",
    "\n",
    "def Image_size(indir):\n",
    "    # 提取xml文件列表\n",
    "    os.chdir(indir)\n",
    "    annotations = os.listdir('.')\n",
    "    annotations = glob.glob(str(annotations) + '*.xml')\n",
    "    width_heights = []\n",
    "\n",
    "    for i, file in enumerate(annotations): # 遍历xml文件\n",
    "        # actual parsing\n",
    "        in_file = open(file, encoding = 'utf-8')\n",
    "        tree = ET.parse(in_file)\n",
    "        root = tree.getroot()\n",
    "        width = int(root.find('size').find('width').text)\n",
    "        height = int(root.find('size').find('height').text)\n",
    "        if [width, height] not in width_heights: width_heights.append([width, height])\n",
    "    print(\"数据集中，有{}种不同的尺寸，分别是：\".format(len(width_heights)))\n",
    "    for item in width_heights:\n",
    "        print(item)\n",
    "\n",
    "indir='/home/aistudio/work/dataset_xml_format/Annotations/'   # xml文件所在的目录\n",
    "Image_size(indir)"
   ]
  },
  {
   "cell_type": "markdown",
   "metadata": {},
   "source": [
    "### 3.3 模型训练"
   ]
  },
  {
   "cell_type": "markdown",
   "metadata": {},
   "source": [
    "**Step01：** 将数据集移动到/home/aistudio/PaddleDetection/dataset目录下。"
   ]
  },
  {
   "cell_type": "code",
   "execution_count": 13,
   "metadata": {
    "execution": {
     "iopub.execute_input": "2023-03-12T01:31:11.871674Z",
     "iopub.status.busy": "2023-03-12T01:31:11.870904Z",
     "iopub.status.idle": "2023-03-12T01:31:12.104826Z",
     "shell.execute_reply": "2023-03-12T01:31:12.103746Z",
     "shell.execute_reply.started": "2023-03-12T01:31:11.871631Z"
    },
    "scrolled": true,
    "tags": []
   },
   "outputs": [],
   "source": [
    "!mv /home/aistudio/work/dataset_xml_format /home/aistudio/PaddleDetection/dataset/"
   ]
  },
  {
   "cell_type": "markdown",
   "metadata": {},
   "source": [
    "**Step02：** 单卡训练"
   ]
  },
  {
   "cell_type": "markdown",
   "metadata": {},
   "source": [
    "本项目选择的是百度飞桨的自研模型PP-YOLOE+。PP-YOLOE是基于PP-YOLOv2的卓越的单阶段Anchor-free模型，超越了多种流行的YOLO模型。PP-YOLOE有一系列的模型，即s/m/l/x，可以通过width multiplier和depth multiplier配置。PP-YOLOE避免了使用诸如Deformable Convolution或者Matrix NMS之类的特殊算子，以使其能轻松地部署在多种多样的硬件上。"
   ]
  },
  {
   "cell_type": "markdown",
   "metadata": {},
   "source": [
    "PP-YOLOE模型训练过程中使用8 GPUs进行混合精度训练，而本项目在训练过程中使用的单卡V100，因此需要按照公式 ${lr_{new}} = {lr_{default}} * ({batchsize_{new}} * {GPUnumber_{new}}) / ({batchsize_{default}} * {GPUnumber_{default}})$ 调整学习率为原来的1/8。同时PP-YOLOE+支持混合精度训练。"
   ]
  },
  {
   "cell_type": "markdown",
   "metadata": {},
   "source": [
    "ERROR2：我们可以看到在训练过程中出现了这样的警告libpng warning: iCCP: known incorrect sRGB profile。\n",
    "\n",
    "SOLUTION2：通过skimage读取后重新保存，代码如下。"
   ]
  },
  {
   "cell_type": "code",
   "execution_count": null,
   "metadata": {
    "scrolled": true,
    "tags": []
   },
   "outputs": [],
   "source": [
    "!pip install scikit-image"
   ]
  },
  {
   "cell_type": "code",
   "execution_count": null,
   "metadata": {
    "scrolled": true,
    "tags": []
   },
   "outputs": [],
   "source": [
    "import os\n",
    "from tqdm import tqdm\n",
    "import cv2\n",
    "from skimage import io\n",
    "\n",
    "path = r\"/home/aistudio/PaddleDetection/dataset/dataset_xml_format/JPEGImages/\"\n",
    "\n",
    "fileList = os.listdir(path)\n",
    "for i in tqdm(fileList):\n",
    "    image = io.imread(path+i)\n",
    "    image = cv2.cvtColor(image, cv2.COLOR_RGBA2BGRA)\n",
    "    cv2.imencode('.png',image)[1].tofile(path+i)"
   ]
  },
  {
   "cell_type": "markdown",
   "metadata": {},
   "source": [
    "经过三十轮次的迭代，我们可以看到训练的模型已经在验证集取得了不错的效果，mAP为90.73%，满足了我们项目的标准。"
   ]
  },
  {
   "cell_type": "code",
   "execution_count": null,
   "metadata": {
    "scrolled": true,
    "tags": []
   },
   "outputs": [],
   "source": [
    "%cd /home/aistudio/PaddleDetection/\n",
    "!python tools/train.py -c configs/ppyoloe/voc/ppyoloe_plus_crn_l_30e_voc.yml --eval --amp --use_vdl True --vdl_log_dir vdl_log_dir/scalar"
   ]
  },
  {
   "cell_type": "markdown",
   "metadata": {},
   "source": [
    "损失函数如图所示：\n",
    "\n",
    "![](https://ai-studio-static-online.cdn.bcebos.com/025cb7e3d0da4dbfb0655acb177ad4fc68160edae6164cb08ed020ee59065fd4)"
   ]
  },
  {
   "cell_type": "markdown",
   "metadata": {},
   "source": [
    "### 3.4 模型评估"
   ]
  },
  {
   "cell_type": "markdown",
   "metadata": {},
   "source": [
    "通过如下命令在单个GPU上评估我们的验证集。"
   ]
  },
  {
   "cell_type": "code",
   "execution_count": null,
   "metadata": {
    "scrolled": true,
    "tags": []
   },
   "outputs": [],
   "source": [
    "!python tools/eval.py -c configs/ppyoloe/voc/ppyoloe_plus_crn_l_30e_voc.yml -o weights=output/ppyoloe_plus_crn_l_30e_voc/best_model.pdparams"
   ]
  },
  {
   "cell_type": "markdown",
   "metadata": {},
   "source": [
    "### 3.5 模型推理"
   ]
  },
  {
   "cell_type": "markdown",
   "metadata": {},
   "source": [
    "我们可以通过以下命令在单张GPU上推理文件中的所有图片。"
   ]
  },
  {
   "cell_type": "code",
   "execution_count": null,
   "metadata": {
    "scrolled": true,
    "tags": []
   },
   "outputs": [],
   "source": [
    "!python tools/infer.py -c configs/ppyoloe/voc/ppyoloe_plus_crn_l_30e_voc.yml -o weights=output/ppyoloe_plus_crn_l_30e_voc/best_model.pdparams --infer_dir=dataset/dataset_xml_format/JPEGImages --output_dir infer_output/"
   ]
  },
  {
   "cell_type": "markdown",
   "metadata": {},
   "source": [
    "### 3.6 模型导出"
   ]
  },
  {
   "cell_type": "markdown",
   "metadata": {},
   "source": [
    "PP-YOLOE+在GPU上部署或者速度测试需要通过tools/export_model.py导出模型。"
   ]
  },
  {
   "cell_type": "code",
   "execution_count": null,
   "metadata": {
    "scrolled": true,
    "tags": []
   },
   "outputs": [],
   "source": [
    "!python tools/export_model.py -c configs/ppyoloe/voc/ppyoloe_plus_crn_l_30e_voc.yml -o weights=output/ppyoloe_plus_crn_l_30e_voc/best_model.pdparams"
   ]
  },
  {
   "cell_type": "markdown",
   "metadata": {},
   "source": [
    "### 3.7 FastDeploy快速部署"
   ]
  },
  {
   "cell_type": "markdown",
   "metadata": {},
   "source": [
    "**环境准备：**\n",
    "本项目的部署环节主要用到的套件为飞桨部署工具FastDeploy，因此我们先安装FastDeploy。"
   ]
  },
  {
   "cell_type": "code",
   "execution_count": null,
   "metadata": {
    "scrolled": true,
    "tags": []
   },
   "outputs": [],
   "source": [
    "!pip install fastdeploy-gpu-python -f https://www.paddlepaddle.org.cn/whl/fastdeploy.html"
   ]
  },
  {
   "cell_type": "markdown",
   "metadata": {},
   "source": [
    "**部署模型：**"
   ]
  },
  {
   "cell_type": "markdown",
   "metadata": {},
   "source": [
    "导入飞桨部署工具FastDepoy包，创建Runtimeoption，具体实现如下代码所示。"
   ]
  },
  {
   "cell_type": "code",
   "execution_count": 34,
   "metadata": {
    "execution": {
     "iopub.execute_input": "2023-03-12T02:53:23.603298Z",
     "iopub.status.busy": "2023-03-12T02:53:23.602439Z",
     "iopub.status.idle": "2023-03-12T02:53:24.335907Z",
     "shell.execute_reply": "2023-03-12T02:53:24.334520Z",
     "shell.execute_reply.started": "2023-03-12T02:53:23.603229Z"
    },
    "scrolled": true
   },
   "outputs": [],
   "source": [
    "import fastdeploy as fd\n",
    "import cv2\n",
    "import os"
   ]
  },
  {
   "cell_type": "code",
   "execution_count": 35,
   "metadata": {
    "execution": {
     "iopub.execute_input": "2023-03-12T02:53:29.421677Z",
     "iopub.status.busy": "2023-03-12T02:53:29.420795Z",
     "iopub.status.idle": "2023-03-12T02:53:29.431528Z",
     "shell.execute_reply": "2023-03-12T02:53:29.430451Z",
     "shell.execute_reply.started": "2023-03-12T02:53:29.421610Z"
    },
    "scrolled": true
   },
   "outputs": [],
   "source": [
    "def build_option(device='cpu', use_trt=False):\n",
    "    option = fd.RuntimeOption()\n",
    "\n",
    "    if device.lower() == \"gpu\":\n",
    "        option.use_gpu()\n",
    "\n",
    "    if use_trt:\n",
    "        option.use_trt_backend()\n",
    "        option.set_trt_input_shape(\"image\", [1, 3, 640, 640])\n",
    "        option.set_trt_input_shape(\"scale_factor\", [1, 2])\n",
    "\n",
    "    return option"
   ]
  },
  {
   "cell_type": "markdown",
   "metadata": {},
   "source": [
    "配置模型路径，创建Runtimeoption，指定部署设备和后端推理引擎，代码实现如下所示。"
   ]
  },
  {
   "cell_type": "code",
   "execution_count": null,
   "metadata": {
    "scrolled": true,
    "tags": []
   },
   "outputs": [],
   "source": [
    "# 配置模型路径\n",
    "model_path = '/home/aistudio/PaddleDetection/output_inference/ppyoloe_plus_crn_l_30e_voc'\n",
    "image_path = '/home/aistudio/PaddleDetection/dataset/dataset_xml_format/JPEGImages/foto00262.png'\n",
    "model_file = os.path.join(model_path, \"model.pdmodel\")\n",
    "params_file = os.path.join(model_path, \"model.pdiparams\")\n",
    "config_file = os.path.join(model_path, \"infer_cfg.yml\")\n",
    "\n",
    "# 创建RuntimeOption\n",
    "runtime_option = build_option(device='gpu', use_trt=False)\n",
    "\n",
    "# 创建PPYOLOE+模型\n",
    "model = fd.vision.detection.PPYOLO(model_file,\n",
    "                                   params_file,\n",
    "                                   config_file,\n",
    "                                   runtime_option=runtime_option)\n",
    "\n",
    "# 预测图片检测结果\n",
    "im = cv2.imread(image_path)\n",
    "result = model.predict(im.copy())\n",
    "print(result)\n",
    "\n",
    "# 预测结果可视化\n",
    "vis_im = fd.vision.vis_detection(im, result, score_threshold=0.5)\n",
    "cv2.imwrite(\"/home/aistudio/work/visualized_result.jpg\", vis_im)\n",
    "print(\"Visualized result save in ./visualized_result.jpg\")"
   ]
  },
  {
   "cell_type": "markdown",
   "metadata": {},
   "source": [
    "推理结果如下：\n",
    "\n",
    "![](https://ai-studio-static-online.cdn.bcebos.com/6ed3f6e388134fd2b3b4858e4d02d141a0fc3db7eaf74b0fb837b7861f707910)"
   ]
  },
  {
   "cell_type": "markdown",
   "metadata": {},
   "source": [
    "## 四、效果展示"
   ]
  },
  {
   "cell_type": "markdown",
   "metadata": {},
   "source": [
    "部分可视化结果如下：\n",
    "\n",
    "![](https://ai-studio-static-online.cdn.bcebos.com/73481b96bbd94e3ea3bebceb62f3b9c8da005724e5fd4dba862af5f9dce080e9)"
   ]
  },
  {
   "cell_type": "markdown",
   "metadata": {},
   "source": [
    "## 五、总结提高"
   ]
  },
  {
   "cell_type": "markdown",
   "metadata": {},
   "source": [
    "本项目任务较为简单，我选用的是百度飞桨的自研模型PP-YOLOE+，经过一小时的训练，就可以达到很好的效果。由于我们的数据集相对较少，如果想要进一步提高我们的模型，可以适量对数据进行在线增强。"
   ]
  },
  {
   "cell_type": "markdown",
   "metadata": {},
   "source": [
    "作者简介：Submerge. 江苏某大学大三学生 人工智能专业\n",
    "[主页链接](https://aistudio.baidu.com/aistudio/personalcenter/thirdview/2365489) 欢迎互关！"
   ]
  },
  {
   "cell_type": "markdown",
   "metadata": {},
   "source": [
    "飞桨导师：郑博培 北京飞桨领航团团长 在此感谢。"
   ]
  }
 ],
 "metadata": {
  "kernelspec": {
   "display_name": "Python 3",
   "language": "python",
   "name": "py35-paddle1.2.0"
  },
  "language_info": {
   "codemirror_mode": {
    "name": "ipython",
    "version": 3
   },
   "file_extension": ".py",
   "mimetype": "text/x-python",
   "name": "python",
   "nbconvert_exporter": "python",
   "pygments_lexer": "ipython3",
   "version": "3.7.4"
  }
 },
 "nbformat": 4,
 "nbformat_minor": 4
}
